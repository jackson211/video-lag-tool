{
 "cells": [
  {
   "cell_type": "code",
   "execution_count": 1,
   "metadata": {},
   "outputs": [],
   "source": [
    "import pandas as pd\n",
    "import numpy as np"
   ]
  },
  {
   "cell_type": "code",
   "execution_count": 2,
   "metadata": {},
   "outputs": [
    {
     "name": "stdout",
     "output_type": "stream",
     "text": [
      "            TIME  TOTAL_PIX_VALUE  PIX_VALUE_DIFF\n",
      "0       0.033367            39532             NaN\n",
      "1       0.066733            39534             2.0\n",
      "2       0.100100            39538             4.0\n",
      "3       0.133467            39548            10.0\n",
      "4       0.166833            39539            -9.0\n",
      "5       0.200200            39548             9.0\n",
      "6       0.233567            39536           -12.0\n",
      "7       0.266933            39536             0.0\n",
      "8       0.300300            39524           -12.0\n",
      "9       0.333667            39536            12.0\n",
      "10      0.367033            39524           -12.0\n",
      "11      0.400400            39740           216.0\n",
      "12      0.433767            39753            13.0\n",
      "13      0.467133            39741           -12.0\n",
      "14      0.500500            39741             0.0\n",
      "15      0.533867            39741             0.0\n",
      "16      0.567233            37699         -2042.0\n",
      "17      0.600600            37699             0.0\n",
      "18      0.633967            37718            19.0\n",
      "19      0.667333            37707           -11.0\n",
      "20      0.700700            37711             4.0\n",
      "21      0.734067            37705            -6.0\n",
      "22      0.767433            37711             6.0\n",
      "23      0.800800            37707            -4.0\n",
      "24      0.834167            37709             2.0\n",
      "25      0.867533            37705            -4.0\n",
      "26      0.900900            37711             6.0\n",
      "27      0.934267            37707            -4.0\n",
      "28      0.967633            37649           -58.0\n",
      "29      1.001000            37665            16.0\n",
      "...          ...              ...             ...\n",
      "3569  119.119000            44129             0.0\n",
      "3570  119.152367            44129             0.0\n",
      "3571  119.185733            44129             0.0\n",
      "3572  119.219100            44129             0.0\n",
      "3573  119.252467            44129             0.0\n",
      "3574  119.285833            44227            98.0\n",
      "3575  119.319200            44268            41.0\n",
      "3576  119.352567            44277             9.0\n",
      "3577  119.385933            44291            14.0\n",
      "3578  119.419300            44276           -15.0\n",
      "3579  119.452667            44285             9.0\n",
      "3580  119.486033            44279            -6.0\n",
      "3581  119.519400            44291            12.0\n",
      "3582  119.552767            44274           -17.0\n",
      "3583  119.586133            44283             9.0\n",
      "3584  119.619500            44277            -6.0\n",
      "3585  119.652867            44291            14.0\n",
      "3586  119.686233            44276           -15.0\n",
      "3587  119.719600            44285             9.0\n",
      "3588  119.752967            44279            -6.0\n",
      "3589  119.786333            44291            12.0\n",
      "3590  119.819700            44274           -17.0\n",
      "3591  119.853067            44283             9.0\n",
      "3592  119.886433            44277            -6.0\n",
      "3593  119.919800            44291            14.0\n",
      "3594  119.953167            44276           -15.0\n",
      "3595  119.986533            44241           -35.0\n",
      "3596  120.019900            44255            14.0\n",
      "3597  120.053267            44250            -5.0\n",
      "3598  120.086633            44254             4.0\n",
      "\n",
      "[3599 rows x 3 columns]\n"
     ]
    }
   ],
   "source": [
    "df = pd.read_csv(\"video_data.csv\")\n",
    "df['PIX_VALUE_DIFF'] = df['TOTAL_PIX_VALUE'].diff()\n",
    "print(df)"
   ]
  },
  {
   "cell_type": "code",
   "execution_count": 3,
   "metadata": {},
   "outputs": [],
   "source": [
    "def zero_runs(a):\n",
    "    # Create an array that is 1 where a is 0, and pad each end with an extra 0.\n",
    "    iszero = np.concatenate(([0], np.equal(a, 0).view(np.int8), [0]))\n",
    "    absdiff = np.abs(np.diff(iszero))\n",
    "    # Runs start and end where absdiff is 1.\n",
    "    ranges = np.where(absdiff == 1)[0].reshape(-1, 2)\n",
    "    return ranges"
   ]
  },
  {
   "cell_type": "code",
   "execution_count": 17,
   "metadata": {},
   "outputs": [
    {
     "name": "stdout",
     "output_type": "stream",
     "text": [
      "42\n"
     ]
    }
   ],
   "source": [
    "time_period = zero_runs(df['PIX_VALUE_DIFF'].tolist())\n",
    "filtered_time_period = []\n",
    "for i in range(len(time_period)):\n",
    "    if time_period[i][1] - time_period[i][0] >= 6: # lag for more than 7 frames\n",
    "        filtered_time_period.append(time_period[i])\n",
    "\n",
    "print(len(filtered_time_period))"
   ]
  },
  {
   "cell_type": "code",
   "execution_count": 10,
   "metadata": {},
   "outputs": [
    {
     "name": "stdout",
     "output_type": "stream",
     "text": [
      "    START_TIME    END_TIME  TIME_PERIOD\n",
      "0     1.034367    1.935267     0.900900\n",
      "1     2.002000    2.569233     0.567233\n",
      "2     3.103100    3.870533     0.767433\n",
      "3     3.937267    4.404400     0.467133\n",
      "4     5.805800    6.673333     0.867533\n",
      "5    11.044367   11.611600     0.567233\n",
      "6    13.179833   13.546867     0.367033\n",
      "7    16.516500   16.783433     0.266933\n",
      "8    17.450767   18.385033     0.934267\n",
      "9    18.418400   18.718700     0.300300\n",
      "10   32.599233   32.899533     0.300300\n",
      "11   46.513133   46.746700     0.233567\n",
      "12   47.647600   48.381667     0.734067\n",
      "13   48.448400   48.882167     0.433767\n",
      "14   54.254200   54.554500     0.300300\n",
      "15   54.654600   55.021633     0.367033\n",
      "16   61.027633   61.261200     0.233567\n",
      "17   61.294567   61.928533     0.633967\n",
      "18   61.995267   62.562500     0.567233\n",
      "19   62.962900   63.863800     0.900900\n",
      "20   63.930533   64.831433     0.900900\n",
      "21   70.270200   70.637233     0.367033\n",
      "22   70.770700   71.604867     0.834167\n",
      "23   73.807067   74.407667     0.600600\n",
      "24   74.641233   75.075000     0.433767\n",
      "25   75.608867   76.443033     0.834167\n",
      "26   76.509767   77.410667     0.900900\n",
      "27   80.780700   81.281200     0.500500\n",
      "28   81.481400   82.248833     0.767433\n",
      "29   82.449033   83.016267     0.567233\n",
      "30   83.283200   83.716967     0.433767\n",
      "31   83.716967   84.184100     0.467133\n",
      "32   84.250833   85.151733     0.900900\n",
      "33   85.185100   85.885800     0.700700\n",
      "34   93.960533   94.561133     0.600600\n",
      "35   99.899800  100.633867     0.734067\n",
      "36  100.767333  101.401300     0.633967\n",
      "37  109.943167  110.310200     0.367033\n",
      "38  113.413300  114.180733     0.767433\n",
      "39  114.314200  114.547767     0.233567\n",
      "40  116.182733  116.649867     0.467133\n",
      "41  118.251467  119.018900     0.767433\n"
     ]
    }
   ],
   "source": [
    "result = pd.DataFrame(columns=['START_TIME', 'END_TIME', 'TIME_PERIOD'])\n",
    "\n",
    "for i in range(0, len(filtered_time_period)):\n",
    "    start_time = df.iloc[filtered_time_period[i][0]-1]['TIME']\n",
    "    end_time = df.iloc[filtered_time_period[i][1]]['TIME']\n",
    "    time_diff = end_time - start_time\n",
    "    result = result.append({'START_TIME': start_time, 'END_TIME': end_time, 'TIME_PERIOD': time_diff}, ignore_index=True)\n",
    "\n",
    "print(result)"
   ]
  },
  {
   "cell_type": "code",
   "execution_count": null,
   "metadata": {},
   "outputs": [],
   "source": []
  }
 ],
 "metadata": {
  "kernelspec": {
   "display_name": "Python 3",
   "language": "python",
   "name": "python3"
  },
  "language_info": {
   "codemirror_mode": {
    "name": "ipython",
    "version": 3
   },
   "file_extension": ".py",
   "mimetype": "text/x-python",
   "name": "python",
   "nbconvert_exporter": "python",
   "pygments_lexer": "ipython3",
   "version": "3.6.4"
  }
 },
 "nbformat": 4,
 "nbformat_minor": 2
}
